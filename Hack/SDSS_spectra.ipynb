{
 "cells": [
  {
   "cell_type": "markdown",
   "id": "6ccca569-bf10-47bb-af89-e7a87677a585",
   "metadata": {},
   "source": [
    "# Generative model for SDSS spectra"
   ]
  },
  {
   "cell_type": "markdown",
   "id": "2c1f75cf-2e11-4734-86f4-757f06ac79e9",
   "metadata": {},
   "source": [
    "The goal is to generate synthetic galaxy spectra from the probability distribution sampled by measured SDSS spectra.\n",
    "\n",
    "The data can be read as follows. Make sure you have the file `sdss_galaxy_spec.hdf5` from the [google drive](https://drive.google.com/drive/u/1/folders/13ySEme-B8XDMYgTZ8_rVpMarRUUGYbTw) downloaded or the google drive linked to your google colab instance."
   ]
  },
  {
   "cell_type": "code",
   "execution_count": null,
   "id": "05193c63-7b7d-47a3-96b5-ae59bd09a8c5",
   "metadata": {},
   "outputs": [],
   "source": [
    "import h5py\n",
    "from matplotlib import pyplot as plt"
   ]
  },
  {
   "cell_type": "code",
   "execution_count": null,
   "id": "c34051d6-5a8e-4b5f-8c0b-fcc2deaafdd3",
   "metadata": {},
   "outputs": [],
   "source": [
    "base = 'TODO'\n",
    "\n",
    "with h5py.File(f'{base}/sdss_galaxy_spec.hdf5', 'r') as fp :\n",
    "\n",
    "    # redshift\n",
    "    z = fp['raw']['z'][...]\n",
    "\n",
    "    # physical properties\n",
    "    age = fp['raw']['age'][...]\n",
    "    metallicity = fp['raw']['metallicity'][...]\n",
    "    smass = fp['raw']['smass'][...]\n",
    "\n",
    "    # spectra, including error bars\n",
    "    wavelength = fp['raw']['wavelength'][...]\n",
    "    specs = fp['raw']['spec'][...]\n",
    "    specerrs = fp['raw']['specerr'][...]"
   ]
  },
  {
   "cell_type": "markdown",
   "id": "aa473830-c22a-4617-91aa-cf5f27ad1897",
   "metadata": {},
   "source": [
    "Let's have a quick look:"
   ]
  },
  {
   "cell_type": "code",
   "execution_count": null,
   "id": "6f4a1b60-9d0f-4035-a660-eb3a4eca4a00",
   "metadata": {},
   "outputs": [],
   "source": [
    "plt.figure()\n",
    "plt.plot(wavelength, specs[137])\n",
    "plt.xlabel('wavelength [angstrom]')\n",
    "plt.ylabel('spectrum')"
   ]
  }
 ],
 "metadata": {
  "kernelspec": {
   "display_name": "Python 3 (ipykernel)",
   "language": "python",
   "name": "python3"
  },
  "language_info": {
   "codemirror_mode": {
    "name": "ipython",
    "version": 3
   },
   "file_extension": ".py",
   "mimetype": "text/x-python",
   "name": "python",
   "nbconvert_exporter": "python",
   "pygments_lexer": "ipython3",
   "version": "3.10.13"
  }
 },
 "nbformat": 4,
 "nbformat_minor": 5
}
